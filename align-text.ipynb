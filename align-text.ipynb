{
 "cells": [
  {
   "cell_type": "code",
   "execution_count": null,
   "metadata": {
    "vscode": {
     "languageId": "plaintext"
    }
   },
   "outputs": [],
   "source": [
    "import cv2"
   ]
  },
  {
   "cell_type": "code",
   "execution_count": null,
   "metadata": {
    "vscode": {
     "languageId": "plaintext"
    }
   },
   "outputs": [],
   "source": [
    "image = cv2.imread(\"text_rotated.png\")\n",
    "gray = cv2.cvtColor(image, cv2.COLOR_BGR2GRAY)"
   ]
  },
  {
   "cell_type": "code",
   "execution_count": null,
   "metadata": {
    "vscode": {
     "languageId": "plaintext"
    }
   },
   "outputs": [],
   "source": [
    "otsu_thresh, thresh = cv2.threshold(gray, 0, 255, cv2.THRESH_BINARY_INV | cv2.THRESH_OTSU)"
   ]
  },
  {
   "cell_type": "code",
   "execution_count": null,
   "metadata": {
    "vscode": {
     "languageId": "plaintext"
    }
   },
   "outputs": [],
   "source": [
    "kernel_size = 4\n",
    "ksize=(kernel_size, kernel_size)\n",
    "kernel = cv2.getStructuringElement(cv2.MORPH_RECT, ksize)\n",
    "thresh_filtered = cv2.morphologyEx(thresh, cv2.MORPH_OPEN, kernel)"
   ]
  },
  {
   "cell_type": "code",
   "execution_count": null,
   "metadata": {
    "vscode": {
     "languageId": "plaintext"
    }
   },
   "outputs": [],
   "source": [
    "nonZeroCoordinates = cv2.findNonZero(thresh_filtered)\n",
    "imageCopy = image.copy()\n",
    "for pt in nonZeroCoordinates:\n",
    "    imageCopy = cv2.circle(imageCopy, (pt[0][0], pt[0][1]), 1, (255, 0, 0))"
   ]
  },
  {
   "cell_type": "code",
   "execution_count": null,
   "metadata": {
    "vscode": {
     "languageId": "plaintext"
    }
   },
   "outputs": [],
   "source": [
    "box = cv2.minAreaRect(nonZeroCoordinates)\n",
    "boxPts = cv2.boxPoints(box)\n",
    "for i in range(4):\n",
    "    pt1 = (boxPts[i][0], boxPts[i][1])\n",
    "    pt2 = (boxPts[(i+1)%4][0], boxPts[(i+1)%4][1])\n",
    "    cv2.line(imageCopy, pt1, pt2, (0,255,0), 2, cv2.LINE_AA);"
   ]
  },
  {
   "cell_type": "code",
   "execution_count": null,
   "metadata": {
    "vscode": {
     "languageId": "plaintext"
    }
   },
   "outputs": [],
   "source": [
    "angle = box[2]\n",
    "if(angle < -45):\n",
    "    angle = 90 + angle"
   ]
  },
  {
   "cell_type": "code",
   "execution_count": null,
   "metadata": {
    "vscode": {
     "languageId": "plaintext"
    }
   },
   "outputs": [],
   "source": [
    "h, w, c = image.shape\n",
    "scale = 1.\n",
    "center = (w/2., h/2.)\n",
    "M = cv2.getRotationMatrix2D(center, angle, scale)\n",
    "rotated = image.copy()\n",
    "cv2.warpAffine(image, M, (w, h), rotated, cv2.INTER_CUBIC, cv2.BORDER_REPLICATE )"
   ]
  }
 ],
 "metadata": {
  "language_info": {
   "name": "python"
  }
 },
 "nbformat": 4,
 "nbformat_minor": 2
}

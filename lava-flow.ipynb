{
 "cells": [
  {
   "cell_type": "code",
   "execution_count": null,
   "metadata": {
    "vscode": {
     "languageId": "plaintext"
    }
   },
   "outputs": [],
   "source": [
    "import cv2\n",
    "import numpy as np"
   ]
  },
  {
   "cell_type": "code",
   "execution_count": null,
   "metadata": {
    "vscode": {
     "languageId": "plaintext"
    }
   },
   "outputs": [],
   "source": [
    "def solution(image_path):\n",
    "    img = cv2.imread(image_path)\n",
    "    w, h = img.shape[0], img.shape[1]\n",
    "    img = cv2.resize(img, (100, 100))\n",
    "    output = cv2.pyrMeanShiftFiltering(img, 30, 40)\n",
    "    output = cv2.resize(output, (h, w))\n",
    "    output = cv2.cvtColor(output, cv2.COLOR_BGR2HSV)\n",
    "    lower = np.array([0, 100,100])\n",
    "    upper = np.array([30,255,255])\n",
    "    maskadd = cv2.inRange(output, lower, upper)\n",
    "    lower_remove = np.array([0, 200, 0])\n",
    "    upper_remove = np.array([15, 255, 200])\n",
    "    mask_to_remove = cv2.inRange(output, lower_remove, upper_remove)\n",
    "    maskfinal = cv2.bitwise_and(maskadd, maskadd, mask=cv2.bitwise_not(mask_to_remove))\n",
    "    image = np.stack([maskfinal, maskfinal, maskfinal], axis=-1)\n",
    "    min_radius=10\n",
    "    max_radius=50\n",
    "    param1=50\n",
    "    param2=30\n",
    "    gray = cv2.cvtColor(img, cv2.COLOR_BGR2GRAY)\n",
    "    blurred = cv2.GaussianBlur(gray, (9, 9), 2)\n",
    "    circles = cv2.HoughCircles(\n",
    "        blurred,\n",
    "        cv2.HOUGH_GRADIENT,\n",
    "        dp=1,\n",
    "        minDist=20,\n",
    "        param1=param1,\n",
    "        param2=param2,\n",
    "        minRadius=min_radius,\n",
    "        maxRadius=max_radius\n",
    "    )\n",
    "    if circles is not None:\n",
    "        circles = np.uint16(np.around(circles))\n",
    "        for i in circles[0, :]:\n",
    "            center = (i[0], i[1])\n",
    "            radius = i[2]\n",
    "            cv2.circle(img, center, radius, (0, 255, 0), 2)\n",
    "            cv2.circle(img, center, 2, (0, 0, 255), 3)\n",
    "    cv2.waitKey(0)\n",
    "    return image"
   ]
  }
 ],
 "metadata": {
  "language_info": {
   "name": "python"
  }
 },
 "nbformat": 4,
 "nbformat_minor": 2
}

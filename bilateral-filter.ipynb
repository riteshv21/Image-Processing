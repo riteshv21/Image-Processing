{
 "cells": [
  {
   "cell_type": "code",
   "execution_count": null,
   "metadata": {
    "vscode": {
     "languageId": "plaintext"
    }
   },
   "outputs": [],
   "source": [
    "import cv2\n",
    "import numpy as np"
   ]
  },
  {
   "cell_type": "code",
   "execution_count": null,
   "metadata": {
    "vscode": {
     "languageId": "plaintext"
    }
   },
   "outputs": [],
   "source": [
    "# Read the source and guide images\n",
    "source_image = cv2.imread('2_a.jpg')\n",
    "guide_image = cv2.imread('2_b.jpg')"
   ]
  },
  {
   "cell_type": "code",
   "execution_count": null,
   "metadata": {
    "vscode": {
     "languageId": "plaintext"
    }
   },
   "outputs": [],
   "source": [
    "# Set the parameters for the bilateral filter\n",
    "diameter = 9  # Diameter of each pixel neighborhood\n",
    "sigma_color = 0.5  # Filter sigma in the color space\n",
    "sigma_space = 40  # Filter sigma in the coordinate space"
   ]
  },
  {
   "cell_type": "code",
   "execution_count": null,
   "metadata": {
    "vscode": {
     "languageId": "plaintext"
    }
   },
   "outputs": [],
   "source": [
    "def bilateral_filter(input_image, guide_image, diameter, sigma_color, sigma_space):\n",
    "    output_image = np.zeros_like(input_image, dtype=np.float32)\n",
    "\n",
    "    height, width, channels = input_image.shape\n",
    "\n",
    "    for i in range(height):\n",
    "        for j in range(width):\n",
    "            pixel_value = input_image[i, j]\n",
    "\n",
    "            # Define the window for filtering\n",
    "            i_min = max(0, i - diameter // 2)\n",
    "            i_max = min(height, i + diameter // 2 + 1)\n",
    "            j_min = max(0, j - diameter // 2)\n",
    "            j_max = min(width, j + diameter // 2 + 1)\n",
    "\n",
    "            # Apply the filter within the window\n",
    "            for x in range(i_min, i_max):\n",
    "                for y in range(j_min, j_max):\n",
    "                    spatial_weight = np.exp(-((i - x)2 + (j - y)*2) / (2 * sigma_space*2))\n",
    "                    color_weight = np.exp(-np.linalg.norm(guide_image[i, j] - guide_image[x, y])*2 / (2 * sigma_color*2))\n",
    "                    weight = spatial_weight * color_weight\n",
    "                    output_image[i, j] += weight * input_image[x, y]\n",
    "\n",
    "            # Normalize the filtered value\n",
    "            output_image[i, j] /= np.sum(weight)\n",
    "\n",
    "    return output_image.astype(np.uint8)"
   ]
  },
  {
   "cell_type": "code",
   "execution_count": null,
   "metadata": {
    "vscode": {
     "languageId": "plaintext"
    }
   },
   "outputs": [],
   "source": [
    "# Convert images to float32\n",
    "source_image_float32 = source_image.astype(np.float32) / 255.0\n",
    "guide_image_float32 = guide_image.astype(np.float32) / 255.0"
   ]
  },
  {
   "cell_type": "code",
   "execution_count": null,
   "metadata": {
    "vscode": {
     "languageId": "plaintext"
    }
   },
   "outputs": [],
   "source": [
    "# Apply the bilateral filter\n",
    "filtered_image = bilateral_filter(source_image_float32, guide_image_float32, diameter, sigma_color, sigma_space)"
   ]
  },
  {
   "cell_type": "code",
   "execution_count": null,
   "metadata": {
    "vscode": {
     "languageId": "plaintext"
    }
   },
   "outputs": [],
   "source": [
    "# Denoise the filtered image\n",
    "denoised_image = cv2.fastNlMeansDenoisingColored(filtered_image, None, 10, 10, 7, 21)"
   ]
  },
  {
   "cell_type": "code",
   "execution_count": null,
   "metadata": {
    "vscode": {
     "languageId": "plaintext"
    }
   },
   "outputs": [],
   "source": [
    "# Display the source, guide, filtered, and denoised images\n",
    "cv2.imshow('Source Image', source_image)\n",
    "cv2.imshow('Guide Image', guide_image)\n",
    "cv2.imshow('Filtered Image', filtered_image)\n",
    "cv2.imshow('Denoised Image', denoised_image)\n",
    "cv2.imwrite('dullf.jpg', denoised_image)\n",
    "cv2.waitKey(0)\n",
    "cv2.destroyAllWindows()"
   ]
  }
 ],
 "metadata": {
  "language_info": {
   "name": "python"
  }
 },
 "nbformat": 4,
 "nbformat_minor": 2
}
